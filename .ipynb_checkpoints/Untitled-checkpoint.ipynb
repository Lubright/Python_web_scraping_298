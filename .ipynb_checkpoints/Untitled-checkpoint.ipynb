{
 "cells": [
  {
   "cell_type": "code",
   "execution_count": 90,
   "metadata": {
    "collapsed": true
   },
   "outputs": [],
   "source": [
    "import requests\n",
    "from pyquery import PyQuery as pq"
   ]
  },
  {
   "cell_type": "code",
   "execution_count": 91,
   "metadata": {
    "collapsed": false
   },
   "outputs": [],
   "source": [
    "response=requests.get('https://www.webscraper.io/test-sites/e-commerce/allinone')"
   ]
  },
  {
   "cell_type": "code",
   "execution_count": 92,
   "metadata": {
    "collapsed": false
   },
   "outputs": [
    {
     "data": {
      "text/plain": [
       "[<html>]"
      ]
     },
     "execution_count": 92,
     "metadata": {},
     "output_type": "execute_result"
    }
   ],
   "source": [
    "result=pq(response.text)\n",
    "result.make_links_absolute(base_url=response.url)"
   ]
  },
  {
   "cell_type": "code",
   "execution_count": 96,
   "metadata": {
    "collapsed": false
   },
   "outputs": [],
   "source": [
    "items=result('#side-menu > li:nth-child(n+2) > a')"
   ]
  },
  {
   "cell_type": "code",
   "execution_count": 97,
   "metadata": {
    "collapsed": false
   },
   "outputs": [
    {
     "name": "stdout",
     "output_type": "stream",
     "text": [
      "Computers : https://www.webscraper.io/test-sites/e-commerce/allinone/computers\n",
      "Laptops : /test-sites/e-commerce/allinone/computers/laptops\n",
      "Tablets : /test-sites/e-commerce/allinone/computers/tablets\n",
      "Phones : https://www.webscraper.io/test-sites/e-commerce/allinone/phones\n",
      "Touch : /test-sites/e-commerce/allinone/phones/touch\n"
     ]
    }
   ],
   "source": [
    "for item in items.items():\n",
    "    print(item.text(),':',item.attr('href'))\n",
    "    sub_item_content=pq(item.attr('href'))\n",
    "    sub_item_content.make_links_absolute(base_url=response.url)\n",
    "    sub_items=sub_item_content('#side-menu > li.active > ul > li > a')\n",
    "    for e in sub_items.items():\n",
    "        print(e.text(),':',e.attr('href'))\n",
    "    "
   ]
  },
  {
   "cell_type": "code",
   "execution_count": 62,
   "metadata": {
    "collapsed": false
   },
   "outputs": [],
   "source": [
    "items=result('body > div.container > div > div.col-md-9 > div.row > div > div > div.caption > h4:nth-child(2) > a')"
   ]
  },
  {
   "cell_type": "code",
   "execution_count": 68,
   "metadata": {
    "collapsed": false
   },
   "outputs": [
    {
     "data": {
      "text/plain": [
       "[<a.title>, <a.title>, <a.title>]"
      ]
     },
     "execution_count": 68,
     "metadata": {},
     "output_type": "execute_result"
    }
   ],
   "source": [
    "items"
   ]
  },
  {
   "cell_type": "code",
   "execution_count": null,
   "metadata": {
    "collapsed": true
   },
   "outputs": [],
   "source": []
  }
 ],
 "metadata": {
  "kernelspec": {
   "display_name": "Python 3",
   "language": "python",
   "name": "python3"
  },
  "language_info": {
   "codemirror_mode": {
    "name": "ipython",
    "version": 3
   },
   "file_extension": ".py",
   "mimetype": "text/x-python",
   "name": "python",
   "nbconvert_exporter": "python",
   "pygments_lexer": "ipython3",
   "version": "3.6.0"
  }
 },
 "nbformat": 4,
 "nbformat_minor": 2
}
