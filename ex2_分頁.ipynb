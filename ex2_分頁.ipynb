{
 "cells": [
  {
   "cell_type": "code",
   "execution_count": 1,
   "metadata": {
    "collapsed": true
   },
   "outputs": [],
   "source": [
    "import requests\n",
    "from pyquery import PyQuery as pq"
   ]
  },
  {
   "cell_type": "code",
   "execution_count": 2,
   "metadata": {
    "collapsed": false
   },
   "outputs": [],
   "source": [
    "response=requests.get('https://www.webscraper.io/test-sites/e-commerce/static')"
   ]
  },
  {
   "cell_type": "code",
   "execution_count": 3,
   "metadata": {
    "collapsed": false
   },
   "outputs": [
    {
     "data": {
      "text/plain": [
       "[<html>]"
      ]
     },
     "execution_count": 3,
     "metadata": {},
     "output_type": "execute_result"
    }
   ],
   "source": [
    "result=pq(response.text)\n",
    "result.make_links_absolute(base_url=response.url)"
   ]
  },
  {
   "cell_type": "code",
   "execution_count": 4,
   "metadata": {
    "collapsed": false
   },
   "outputs": [],
   "source": [
    "items=result('#side-menu > li:nth-child(n+2) > a')"
   ]
  },
  {
   "cell_type": "code",
   "execution_count": 13,
   "metadata": {
    "collapsed": false
   },
   "outputs": [
    {
     "name": "stdout",
     "output_type": "stream",
     "text": [
      "page: http://webscraperio.us-east-1.elasticbeanstalk.com/test-sites/e-commerce/static/computers/laptops?page=2\n",
      "page: http://webscraperio.us-east-1.elasticbeanstalk.com/test-sites/e-commerce/static/computers/laptops?page=3\n",
      "page: http://webscraperio.us-east-1.elasticbeanstalk.com/test-sites/e-commerce/static/computers/laptops?page=4\n",
      "page: http://webscraperio.us-east-1.elasticbeanstalk.com/test-sites/e-commerce/static/computers/laptops?page=5\n",
      "page: http://webscraperio.us-east-1.elasticbeanstalk.com/test-sites/e-commerce/static/computers/laptops?page=6\n",
      "page: http://webscraperio.us-east-1.elasticbeanstalk.com/test-sites/e-commerce/static/computers/laptops?page=7\n",
      "page: http://webscraperio.us-east-1.elasticbeanstalk.com/test-sites/e-commerce/static/computers/laptops?page=8\n",
      "page: http://webscraperio.us-east-1.elasticbeanstalk.com/test-sites/e-commerce/static/computers/laptops?page=9\n",
      "page: http://webscraperio.us-east-1.elasticbeanstalk.com/test-sites/e-commerce/static/computers/laptops?page=10\n",
      "page: http://webscraperio.us-east-1.elasticbeanstalk.com/test-sites/e-commerce/static/computers/laptops?page=11\n",
      "page: http://webscraperio.us-east-1.elasticbeanstalk.com/test-sites/e-commerce/static/computers/laptops?page=12\n",
      "page: http://webscraperio.us-east-1.elasticbeanstalk.com/test-sites/e-commerce/static/computers/laptops?page=13\n",
      "page: http://webscraperio.us-east-1.elasticbeanstalk.com/test-sites/e-commerce/static/computers/laptops?page=14\n",
      "page: http://webscraperio.us-east-1.elasticbeanstalk.com/test-sites/e-commerce/static/computers/laptops?page=15\n",
      "page: http://webscraperio.us-east-1.elasticbeanstalk.com/test-sites/e-commerce/static/computers/laptops?page=16\n",
      "page: http://webscraperio.us-east-1.elasticbeanstalk.com/test-sites/e-commerce/static/computers/laptops?page=17\n",
      "page: http://webscraperio.us-east-1.elasticbeanstalk.com/test-sites/e-commerce/static/computers/laptops?page=18\n",
      "page: http://webscraperio.us-east-1.elasticbeanstalk.com/test-sites/e-commerce/static/computers/laptops?page=19\n",
      "page: http://webscraperio.us-east-1.elasticbeanstalk.com/test-sites/e-commerce/static/computers/laptops?page=20\n",
      "page: None\n",
      "page: http://webscraperio.us-east-1.elasticbeanstalk.com/test-sites/e-commerce/static/computers/tablets?page=2\n",
      "page: http://webscraperio.us-east-1.elasticbeanstalk.com/test-sites/e-commerce/static/computers/tablets?page=3\n",
      "page: http://webscraperio.us-east-1.elasticbeanstalk.com/test-sites/e-commerce/static/computers/tablets?page=4\n",
      "page: None\n",
      "page: http://webscraperio.us-east-1.elasticbeanstalk.com/test-sites/e-commerce/static/phones/touch?page=2\n",
      "page: None\n"
     ]
    }
   ],
   "source": [
    "dataset=[]\n",
    "for item in items.items():\n",
    "#     print(item.text(),':',item.attr('href'))\n",
    "    sub_item_content=pq(item.attr('href'))\n",
    "    sub_item_content.make_links_absolute(base_url=response.url)\n",
    "    sub_items=sub_item_content('#side-menu > li.active > ul > li > a')\n",
    "    for e in sub_items.items():\n",
    "#         print(e.text(),':',e.attr('href'))\n",
    "        \n",
    "        target_content=pq(e.attr('href')) # 商品目錄頁\n",
    "#         for i in range(3):\n",
    "        while True:\n",
    "            target_item=target_content('body > div.container > div > div.col-md-9 > div > div > div')\n",
    "        \n",
    "            for e2 in target_item.items():\n",
    "                itemDict={}\n",
    "                itemDict['title']=e2('.title').text()\n",
    "                itemDict['price']=float(e2('.price').text().replace('$',''))\n",
    "                dataset.append(itemDict)\n",
    "            # 處理分頁\n",
    "            page=target_content('.pagination>li.active').next()(\"a\").attr('href') # 下一個 li\n",
    "            print('page:',page) # li>a['href']\n",
    "            if page is None:\n",
    "                break\n",
    "            target_content=pq(page)\n",
    "    "
   ]
  },
  {
   "cell_type": "code",
   "execution_count": 14,
   "metadata": {
    "collapsed": false
   },
   "outputs": [
    {
     "data": {
      "text/plain": [
       "[{'price': 416.99, 'title': 'Packard 255 G2'},\n",
       " {'price': 306.99, 'title': 'Aspire E1-510'},\n",
       " {'price': 1178.99, 'title': 'ThinkPad T540p'},\n",
       " {'price': 739.99, 'title': 'ProBook'},\n",
       " {'price': 1311.99, 'title': 'ThinkPad X240'},\n",
       " {'price': 581.99, 'title': 'Aspire E1-572G'},\n",
       " {'price': 1033.99, 'title': 'ThinkPad Yoga'},\n",
       " {'price': 609.99, 'title': 'Pavilion'},\n",
       " {'price': 745.99, 'title': 'Inspiron 15'},\n",
       " {'price': 1281.99, 'title': 'Dell XPS 13'},\n",
       " {'price': 1244.99, 'title': 'ThinkPad X230'},\n",
       " {'price': 520.99, 'title': 'HP 250 G3'},\n",
       " {'price': 1223.99, 'title': 'ThinkPad Yoga'},\n",
       " {'price': 577.99, 'title': 'HP 350 G1'},\n",
       " {'price': 399.0, 'title': 'Asus VivoBook Ma...'},\n",
       " {'price': 488.78, 'title': 'Dell Vostro 15'},\n",
       " {'price': 564.98, 'title': 'Acer Spin 5'},\n",
       " {'price': 679.0, 'title': 'Acer Aspire A515...'},\n",
       " {'price': 679.0, 'title': 'Dell Inspiron 15'},\n",
       " {'price': 729.0, 'title': 'Asus VivoBook S1...'},\n",
       " {'price': 799.0, 'title': 'Asus ROG STRIX G...'},\n",
       " {'price': 809.0, 'title': 'Acer Nitro 5 AN5...'},\n",
       " {'price': 899.0, 'title': 'Asus ROG STRIX G...'},\n",
       " {'price': 999.0, 'title': 'Lenovo ThinkPad...'},\n",
       " {'price': 1149.0, 'title': 'Lenovo Legion Y5...'},\n",
       " {'price': 1399.0, 'title': 'Lenovo Legion Y7...'},\n",
       " {'price': 1769.0, 'title': 'Asus ROG Strix G...'},\n",
       " {'price': 1769.0, 'title': 'Asus ROG Strix G...'},\n",
       " {'price': 1799.0, 'title': 'Asus ROG Strix S...'},\n",
       " {'price': 295.99, 'title': 'Asus VivoBook X4...'},\n",
       " {'price': 299.0, 'title': 'Prestigio SmartB...'},\n",
       " {'price': 299.0, 'title': 'Prestigio SmartB...'},\n",
       " {'price': 321.94, 'title': 'Lenovo V110-15IA...'},\n",
       " {'price': 356.49, 'title': 'Lenovo V110-15IA...'},\n",
       " {'price': 364.46, 'title': 'Hewlett Packard...'},\n",
       " {'price': 372.7, 'title': 'Acer Aspire 3 A3...'},\n",
       " {'price': 379.94, 'title': 'Acer Aspire A315...'},\n",
       " {'price': 379.95, 'title': 'Acer Aspire ES1-...'},\n",
       " {'price': 391.48, 'title': 'Acer Aspire 3 A3...'},\n",
       " {'price': 393.88, 'title': 'Acer Aspire 3 A3...'},\n",
       " {'price': 399.99, 'title': 'Asus VivoBook E5...'},\n",
       " {'price': 404.23, 'title': 'Lenovo ThinkPad...'},\n",
       " {'price': 408.98, 'title': 'Acer Aspire 3 A3...'},\n",
       " {'price': 409.63, 'title': 'Lenovo V110-15IS...'},\n",
       " {'price': 410.46, 'title': 'Acer Aspire ES1-...'},\n",
       " {'price': 410.66, 'title': 'Asus VivoBook 15...'},\n",
       " {'price': 433.3, 'title': 'Asus EeeBook R41...'},\n",
       " {'price': 436.29, 'title': 'Acer Aspire 3 A3...'},\n",
       " {'price': 436.29, 'title': 'Acer Aspire ES1-...'},\n",
       " {'price': 439.73, 'title': 'Acer Extensa 15...'},\n",
       " {'price': 454.62, 'title': 'Acer Aspire ES1-...'},\n",
       " {'price': 454.73, 'title': 'Lenovo V110-15IS...'},\n",
       " {'price': 457.38, 'title': 'Acer Aspire A315...'},\n",
       " {'price': 465.95, 'title': 'Lenovo V110-15IK...'},\n",
       " {'price': 468.56, 'title': 'Asus VivoBook 15...'},\n",
       " {'price': 469.1, 'title': 'Acer Aspire ES1-...'},\n",
       " {'price': 484.23, 'title': 'Lenovo V510 Blac...'},\n",
       " {'price': 485.9, 'title': 'Acer Aspire ES1-...'},\n",
       " {'price': 487.8, 'title': 'Lenovo V510 Blac...'},\n",
       " {'price': 488.64, 'title': 'Acer Swift 1 SF1...'},\n",
       " {'price': 494.71, 'title': 'Acer Aspire 3 A3...'},\n",
       " {'price': 497.17, 'title': 'Dell Vostro 15 (...'},\n",
       " {'price': 498.23, 'title': 'Lenovo V510 Blac...'},\n",
       " {'price': 1096.02, 'title': 'Lenovo ThinkPad...'},\n",
       " {'price': 1098.42, 'title': 'Dell Inspiron 15...'},\n",
       " {'price': 1099.0, 'title': 'MSI GL72M 7RDX'},\n",
       " {'price': 1099.0, 'title': 'MSI GL72M 7RDX'},\n",
       " {'price': 1101.83, 'title': 'Asus ROG Strix G...'},\n",
       " {'price': 1102.66, 'title': 'Dell Latitude 52...'},\n",
       " {'price': 1110.14, 'title': 'Dell Latitude 54...'},\n",
       " {'price': 1112.91, 'title': 'Lenovo Legion Y5...'},\n",
       " {'price': 1114.55, 'title': 'Toshiba Portege...'},\n",
       " {'price': 1123.87, 'title': 'Acer Predator He...'},\n",
       " {'price': 1123.87, 'title': 'Acer Aspire 7 A7...'},\n",
       " {'price': 1124.2, 'title': 'Dell Inspiron 17...'},\n",
       " {'price': 1133.82, 'title': 'Dell Latitude 54...'},\n",
       " {'price': 1133.91, 'title': 'Lenovo Legion Y5...'},\n",
       " {'price': 1139.54, 'title': 'Asus AsusPro Adv...'},\n",
       " {'price': 1140.62, 'title': 'Acer Nitro 5 AN5...'},\n",
       " {'price': 1143.4, 'title': 'Dell Latitude 54...'},\n",
       " {'price': 1144.2, 'title': 'Dell Inspiron 15...'},\n",
       " {'price': 1144.4, 'title': 'Dell Latitude 55...'},\n",
       " {'price': 1149.0, 'title': 'MSI GP62M 7RDX L...'},\n",
       " {'price': 1149.73, 'title': 'Lenovo Yoga 720...'},\n",
       " {'price': 1154.04, 'title': 'Toshiba Portege...'},\n",
       " {'price': 1170.1, 'title': 'Acer TravelMate...'},\n",
       " {'price': 1178.19, 'title': 'Dell Latitude 55...'},\n",
       " {'price': 1179.0, 'title': 'MSI GS63 7RD Ste...'},\n",
       " {'price': 1187.88, 'title': 'Dell Latitude 54...'},\n",
       " {'price': 1187.98, 'title': 'Acer Predator He...'},\n",
       " {'price': 1199.0, 'title': 'MSI GL62M 7REX'},\n",
       " {'price': 1199.0, 'title': 'MSI GL62M 7REX2'},\n",
       " {'price': 1199.73, 'title': 'Lenovo Yoga 910...'},\n",
       " {'price': 1203.41, 'title': 'Toshiba Portege...'},\n",
       " {'price': 1212.16, 'title': 'Lenovo IdeaPad M...'},\n",
       " {'price': 1221.58, 'title': 'Acer Predator He...'},\n",
       " {'price': 1235.49, 'title': 'Asus VivoBook Pr...'},\n",
       " {'price': 1238.37, 'title': 'Dell Latitude 54...'},\n",
       " {'price': 1239.2, 'title': 'Asus ZenBook UX5...'},\n",
       " {'price': 1259.0, 'title': 'Asus ROG Strix G...'},\n",
       " {'price': 1260.13, 'title': 'Apple MacBook Ai...'},\n",
       " {'price': 1271.06, 'title': 'Dell Latitude 54...'},\n",
       " {'price': 1273.11, 'title': 'Hewlett Packard...'},\n",
       " {'price': 1294.74, 'title': 'Toshiba Portege...'},\n",
       " {'price': 1299.0, 'title': 'MSI GL62VR 7RFX'},\n",
       " {'price': 1310.39, 'title': 'Dell Latitude 54...'},\n",
       " {'price': 1326.83, 'title': 'Hewlett Packard...'},\n",
       " {'price': 1333.0, 'title': 'Apple MacBook Pr...'},\n",
       " {'price': 1337.28, 'title': 'Dell Latitude 55...'},\n",
       " {'price': 1338.37, 'title': 'Dell Latitude 54...'},\n",
       " {'price': 1341.22, 'title': 'Dell Latitude 55...'},\n",
       " {'price': 1347.78, 'title': 'Apple MacBook Ai...'},\n",
       " {'price': 1349.23, 'title': 'Lenovo ThinkPad...'},\n",
       " {'price': 1362.24, 'title': 'Lenovo ThinkPad...'},\n",
       " {'price': 1366.32, 'title': 'Toshiba Portege...'},\n",
       " {'price': 1381.13, 'title': 'Asus ASUSPRO B94...'},\n",
       " {'price': 1399.0, 'title': 'Asus ROG Strix G...'},\n",
       " {'price': 69.99, 'title': 'Lenovo IdeaTab'},\n",
       " {'price': 96.99, 'title': 'Acer Iconia'},\n",
       " {'price': 102.99, 'title': 'Asus MeMO Pad'},\n",
       " {'price': 103.99, 'title': 'Amazon Kindle'},\n",
       " {'price': 537.99, 'title': 'iPad Mini Retina'},\n",
       " {'price': 88.99, 'title': 'IdeaTab A3500L'},\n",
       " {'price': 251.99, 'title': 'Galaxy Tab'},\n",
       " {'price': 148.99, 'title': 'IdeaTab A3500-H'},\n",
       " {'price': 97.99, 'title': 'Galaxy Tab 3'},\n",
       " {'price': 489.99, 'title': 'Galaxy Note'},\n",
       " {'price': 130.99, 'title': 'MeMO Pad 7'},\n",
       " {'price': 233.99, 'title': 'Galaxy Tab 4'},\n",
       " {'price': 107.99, 'title': 'Galaxy Tab 3'},\n",
       " {'price': 101.99, 'title': 'Memo Pad HD 7'},\n",
       " {'price': 587.99, 'title': 'Galaxy Note 10.1'},\n",
       " {'price': 320.99, 'title': 'MeMo PAD FHD 10'},\n",
       " {'price': 172.99, 'title': 'IdeaTab S5000'},\n",
       " {'price': 99.99, 'title': 'Iconia B1-730HD'},\n",
       " {'price': 121.99, 'title': 'IdeaTab A8-50'},\n",
       " {'price': 399.99, 'title': 'Galaxy Note'},\n",
       " {'price': 603.99, 'title': 'Apple iPad Air'},\n",
       " {'price': 24.99, 'title': 'Nokia 123'},\n",
       " {'price': 57.99, 'title': 'LG Optimus'},\n",
       " {'price': 93.99, 'title': 'Samsung Galaxy'},\n",
       " {'price': 109.99, 'title': 'Nokia X'},\n",
       " {'price': 118.99, 'title': 'Sony Xperia'},\n",
       " {'price': 499.99, 'title': 'Ubuntu Edge'},\n",
       " {'price': 899.99, 'title': 'Iphone'},\n",
       " {'price': 899.99, 'title': 'Iphone'},\n",
       " {'price': 899.99, 'title': 'Iphone'}]"
      ]
     },
     "execution_count": 14,
     "metadata": {},
     "output_type": "execute_result"
    }
   ],
   "source": [
    "dataset"
   ]
  },
  {
   "cell_type": "code",
   "execution_count": 68,
   "metadata": {
    "collapsed": false
   },
   "outputs": [
    {
     "data": {
      "text/plain": [
       "[<a.title>, <a.title>, <a.title>]"
      ]
     },
     "execution_count": 68,
     "metadata": {},
     "output_type": "execute_result"
    }
   ],
   "source": [
    "items"
   ]
  },
  {
   "cell_type": "code",
   "execution_count": null,
   "metadata": {
    "collapsed": true
   },
   "outputs": [],
   "source": []
  }
 ],
 "metadata": {
  "kernelspec": {
   "display_name": "Python 3",
   "language": "python",
   "name": "python3"
  },
  "language_info": {
   "codemirror_mode": {
    "name": "ipython",
    "version": 3
   },
   "file_extension": ".py",
   "mimetype": "text/x-python",
   "name": "python",
   "nbconvert_exporter": "python",
   "pygments_lexer": "ipython3",
   "version": "3.6.0"
  }
 },
 "nbformat": 4,
 "nbformat_minor": 2
}
