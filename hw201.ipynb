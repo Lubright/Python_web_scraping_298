{
 "cells": [
  {
   "cell_type": "code",
   "execution_count": 109,
   "metadata": {},
   "outputs": [],
   "source": [
    "import requests\n",
    "from pyquery import PyQuery as pq\n",
    "from collections import namedtuple\n",
    "from urllib.parse import urlparse"
   ]
  },
  {
   "cell_type": "code",
   "execution_count": 110,
   "metadata": {},
   "outputs": [],
   "source": [
    "def cal_money(money,receipt_list):\n",
    "    sum1=0\n",
    "    for receipt in receipt_list:\n",
    "        sum1+=round((receipt.money * money[receipt.money_type+'_'+receipt.date]),0)\n",
    "    return sum1"
   ]
  },
  {
   "cell_type": "code",
   "execution_count": 111,
   "metadata": {},
   "outputs": [],
   "source": [
    "url='https://rate.bot.com.tw/xrt/history?Lang=zh-TW'\n",
    "Receipt = namedtuple('Receipt', ['date', 'money_type', 'money'])\n",
    "Receipt_list=[]"
   ]
  },
  {
   "cell_type": "code",
   "execution_count": 112,
   "metadata": {},
   "outputs": [
    {
     "data": {
      "text/plain": [
       "'https://rate.bot.com.tw/xrt/all/'"
      ]
     },
     "execution_count": 112,
     "metadata": {},
     "output_type": "execute_result"
    }
   ],
   "source": [
    "url_parse=urlparse(url)\n",
    "url_base='{}://{}'.format(url_parse.scheme,url_parse.netloc)\n",
    "target_url=url_base+'/xrt/all/'\n",
    "target_url"
   ]
  },
  {
   "cell_type": "code",
   "execution_count": 113,
   "metadata": {},
   "outputs": [
    {
     "name": "stdout",
     "output_type": "stream",
     "text": [
      "2018/01/02 USD 100\n",
      "Receipt(date='2018-01-02', money_type='USD', money=100.0)\n",
      "2018/01/04 USD 23\n",
      "Receipt(date='2018-01-04', money_type='USD', money=23.0)\n"
     ]
    }
   ],
   "source": [
    "for i in range(2):\n",
    "    try:\n",
    "        line = input()\n",
    "        line = [e for e in line.split(' ') if e != '']\n",
    "        receipt=Receipt(line[0].replace('/','-'),line[1],float(line[2]))\n",
    "        print(receipt)\n",
    "#         print(receipt.date)\n",
    "        Receipt_list.append(receipt)\n",
    "\n",
    "    except EOFError as e:\n",
    "        break\n",
    "    except:\n",
    "\n",
    "        continue"
   ]
  },
  {
   "cell_type": "code",
   "execution_count": 114,
   "metadata": {},
   "outputs": [
    {
     "name": "stdout",
     "output_type": "stream",
     "text": [
      "https://rate.bot.com.tw/xrt/all/2018-01-02\n",
      "USD\n",
      "https://rate.bot.com.tw/xrt/all/2018-01-04\n",
      "USD\n"
     ]
    }
   ],
   "source": [
    "money_dict={}\n",
    "for receipt in Receipt_list:\n",
    "    print(target_url+receipt.date)\n",
    "    response=requests.get(target_url+receipt.date)\n",
    "#     print(response.text)\n",
    "    doc=pq(response.text)\n",
    "    tr=doc('body > div.page-wrapper > main > div:nth-child(4) > table > tbody > tr')\n",
    "    for row in tr.items():\n",
    "#         print(row('div.visible-phone.print_hide').text())\n",
    "        money_type=row('div.visible-phone.print_hide').text()\n",
    "        money_type=money_type[money_type.find('(')+1:money_type.find(')')]\n",
    "        print(money_type)\n",
    "#         print(row('td:nth-child(5)').text())\n",
    "        if money_type==receipt.money_type and money_type not in money_dict:\n",
    "            money_dict[money_type+'_'+receipt.date]=float(row('td:nth-child(5)').text())\n",
    "            break\n",
    "    \n",
    "    "
   ]
  },
  {
   "cell_type": "code",
   "execution_count": 115,
   "metadata": {},
   "outputs": [
    {
     "data": {
      "text/plain": [
       "{'USD_2018-01-02': 29.665, 'USD_2018-01-04': 29.63}"
      ]
     },
     "execution_count": 115,
     "metadata": {},
     "output_type": "execute_result"
    }
   ],
   "source": [
    "money_dict"
   ]
  },
  {
   "cell_type": "code",
   "execution_count": 116,
   "metadata": {},
   "outputs": [
    {
     "data": {
      "text/plain": [
       "3647.99"
      ]
     },
     "execution_count": 116,
     "metadata": {},
     "output_type": "execute_result"
    }
   ],
   "source": [
    "cal_money(money_dict,Receipt_list)"
   ]
  },
  {
   "cell_type": "code",
   "execution_count": null,
   "metadata": {},
   "outputs": [],
   "source": []
  }
 ],
 "metadata": {
  "kernelspec": {
   "display_name": "Python 3",
   "language": "python",
   "name": "python3"
  },
  "language_info": {
   "codemirror_mode": {
    "name": "ipython",
    "version": 3
   },
   "file_extension": ".py",
   "mimetype": "text/x-python",
   "name": "python",
   "nbconvert_exporter": "python",
   "pygments_lexer": "ipython3",
   "version": "3.6.4"
  }
 },
 "nbformat": 4,
 "nbformat_minor": 2
}
