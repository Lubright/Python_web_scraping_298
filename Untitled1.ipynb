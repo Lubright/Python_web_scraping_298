{
 "cells": [
  {
   "cell_type": "code",
   "execution_count": 56,
   "metadata": {},
   "outputs": [],
   "source": [
    "import requests\n",
    "from pyquery import PyQuery as pq"
   ]
  },
  {
   "cell_type": "code",
   "execution_count": 57,
   "metadata": {},
   "outputs": [],
   "source": [
    "response=requests.get('https://www.webscraper.io/test-sites/e-commerce/static')"
   ]
  },
  {
   "cell_type": "code",
   "execution_count": 58,
   "metadata": {},
   "outputs": [],
   "source": [
    "doc=pq(response.text)"
   ]
  },
  {
   "cell_type": "code",
   "execution_count": 59,
   "metadata": {},
   "outputs": [
    {
     "data": {
      "text/plain": [
       "[<html>]"
      ]
     },
     "execution_count": 59,
     "metadata": {},
     "output_type": "execute_result"
    }
   ],
   "source": [
    "doc.make_links_absolute(base_url=response.url)"
   ]
  },
  {
   "cell_type": "code",
   "execution_count": 60,
   "metadata": {},
   "outputs": [
    {
     "name": "stdout",
     "output_type": "stream",
     "text": [
      "Computers Phones\n"
     ]
    }
   ],
   "source": [
    "side_bar_item_list=doc('#side-menu > li:nth-child(n+2) > a')\n",
    "print(side_bar_item_list.text())"
   ]
  },
  {
   "cell_type": "code",
   "execution_count": 61,
   "metadata": {},
   "outputs": [
    {
     "name": "stdout",
     "output_type": "stream",
     "text": [
      "<generator object PyQuery.items at 0x0000024A6081F308>\n"
     ]
    }
   ],
   "source": [
    "print(side_bar_item_list.items())"
   ]
  },
  {
   "cell_type": "code",
   "execution_count": 71,
   "metadata": {},
   "outputs": [
    {
     "name": "stdout",
     "output_type": "stream",
     "text": [
      "https://www.webscraper.io/test-sites/e-commerce/static/computers/laptops\n",
      "http://webscraperio.us-east-1.elasticbeanstalk.com/test-sites/e-commerce/static/computers/laptops?page=2\n",
      "http://webscraperio.us-east-1.elasticbeanstalk.com/test-sites/e-commerce/static/computers/laptops?page=3\n",
      "http://webscraperio.us-east-1.elasticbeanstalk.com/test-sites/e-commerce/static/computers/laptops?page=4\n",
      "https://www.webscraper.io/test-sites/e-commerce/static/computers/tablets\n",
      "http://webscraperio.us-east-1.elasticbeanstalk.com/test-sites/e-commerce/static/computers/tablets?page=2\n",
      "http://webscraperio.us-east-1.elasticbeanstalk.com/test-sites/e-commerce/static/computers/tablets?page=3\n",
      "http://webscraperio.us-east-1.elasticbeanstalk.com/test-sites/e-commerce/static/computers/tablets?page=4\n",
      "https://www.webscraper.io/test-sites/e-commerce/static/phones/touch\n",
      "http://webscraperio.us-east-1.elasticbeanstalk.com/test-sites/e-commerce/static/phones/touch?page=2\n",
      "None\n"
     ]
    },
    {
     "ename": "TypeError",
     "evalue": "None",
     "output_type": "error",
     "traceback": [
      "\u001b[1;31m---------------------------------------------------------------------------\u001b[0m",
      "\u001b[1;31mTypeError\u001b[0m                                 Traceback (most recent call last)",
      "\u001b[1;32m<ipython-input-71-f3e4b8a6e65d>\u001b[0m in \u001b[0;36m<module>\u001b[1;34m()\u001b[0m\n\u001b[0;32m     17\u001b[0m             \u001b[0mnext_page\u001b[0m\u001b[1;33m=\u001b[0m\u001b[0mitem_page_active_doc\u001b[0m\u001b[1;33m(\u001b[0m\u001b[1;34m'.pagination>li.active'\u001b[0m\u001b[1;33m)\u001b[0m\u001b[1;33m.\u001b[0m\u001b[0mnext\u001b[0m\u001b[1;33m(\u001b[0m\u001b[1;33m)\u001b[0m\u001b[1;33m(\u001b[0m\u001b[1;34m'a'\u001b[0m\u001b[1;33m)\u001b[0m\u001b[1;33m.\u001b[0m\u001b[0mattr\u001b[0m\u001b[1;33m(\u001b[0m\u001b[1;34m'href'\u001b[0m\u001b[1;33m)\u001b[0m\u001b[1;33m\u001b[0m\u001b[0m\n\u001b[0;32m     18\u001b[0m             \u001b[0mprint\u001b[0m\u001b[1;33m(\u001b[0m\u001b[0mnext_page\u001b[0m\u001b[1;33m)\u001b[0m\u001b[1;33m\u001b[0m\u001b[0m\n\u001b[1;32m---> 19\u001b[1;33m             \u001b[0mitem_page_active_doc\u001b[0m\u001b[1;33m=\u001b[0m\u001b[0mpq\u001b[0m\u001b[1;33m(\u001b[0m\u001b[0mnext_page\u001b[0m\u001b[1;33m)\u001b[0m\u001b[1;33m\u001b[0m\u001b[0m\n\u001b[0m",
      "\u001b[1;32m~\\Anaconda3\\lib\\site-packages\\pyquery\\pyquery.py\u001b[0m in \u001b[0;36m__init__\u001b[1;34m(self, *args, **kwargs)\u001b[0m\n\u001b[0;32m    264\u001b[0m                 \u001b[0melements\u001b[0m \u001b[1;33m=\u001b[0m \u001b[1;33m[\u001b[0m\u001b[0mcontext\u001b[0m\u001b[1;33m]\u001b[0m\u001b[1;33m\u001b[0m\u001b[0m\n\u001b[0;32m    265\u001b[0m             \u001b[1;32melse\u001b[0m\u001b[1;33m:\u001b[0m\u001b[1;33m\u001b[0m\u001b[0m\n\u001b[1;32m--> 266\u001b[1;33m                 \u001b[1;32mraise\u001b[0m \u001b[0mTypeError\u001b[0m\u001b[1;33m(\u001b[0m\u001b[0mcontext\u001b[0m\u001b[1;33m)\u001b[0m\u001b[1;33m\u001b[0m\u001b[0m\n\u001b[0m\u001b[0;32m    267\u001b[0m \u001b[1;33m\u001b[0m\u001b[0m\n\u001b[0;32m    268\u001b[0m             \u001b[1;31m# select nodes\u001b[0m\u001b[1;33m\u001b[0m\u001b[1;33m\u001b[0m\u001b[0m\n",
      "\u001b[1;31mTypeError\u001b[0m: None"
     ]
    }
   ],
   "source": [
    "dataset=[]\n",
    "for item_page in side_bar_item_list.items():\n",
    "#     print(item_page.attr('href'))\n",
    "    item_page_link=pq(item_page.attr('href'))\n",
    "    item_page_link.make_links_absolute(base_url=response.url)\n",
    "    sub_item_doc=item_page_link('#side-menu > li.active > ul > li > a')\n",
    "    \n",
    "    for sub_item_doc_link in sub_item_doc.items():\n",
    "        print(sub_item_doc_link.attr('href'))\n",
    "        item_page_active_doc=pq(sub_item_doc_link.attr('href'))\n",
    "        for i in range(3):\n",
    "            for items_active_page in item_page_active_doc('.thumbnail').items():\n",
    "                itemDict={}\n",
    "    #             print(items_active_page('.title').text())\n",
    "                itemDict['title']=items_active_page('.title').text()\n",
    "                dataset.append(itemDict)\n",
    "            next_page=item_page_active_doc('.pagination>li.active').next()('a').attr('href')\n",
    "            print(next_page)\n",
    "            item_page_active_doc=pq(next_page)"
   ]
  },
  {
   "cell_type": "code",
   "execution_count": 69,
   "metadata": {},
   "outputs": [
    {
     "data": {
      "text/plain": [
       "[{'title': 'Packard 255 G2'},\n",
       " {'title': 'Aspire E1-510'},\n",
       " {'title': 'ThinkPad T540p'},\n",
       " {'title': 'ProBook'},\n",
       " {'title': 'ThinkPad X240'},\n",
       " {'title': 'Aspire E1-572G'},\n",
       " {'title': 'Lenovo IdeaTab'},\n",
       " {'title': 'Acer Iconia'},\n",
       " {'title': 'Asus MeMO Pad'},\n",
       " {'title': 'Amazon Kindle'},\n",
       " {'title': 'iPad Mini Retina'},\n",
       " {'title': 'IdeaTab A3500L'},\n",
       " {'title': 'Nokia 123'},\n",
       " {'title': 'LG Optimus'},\n",
       " {'title': 'Samsung Galaxy'},\n",
       " {'title': 'Nokia X'},\n",
       " {'title': 'Sony Xperia'},\n",
       " {'title': 'Ubuntu Edge'}]"
      ]
     },
     "execution_count": 69,
     "metadata": {},
     "output_type": "execute_result"
    }
   ],
   "source": [
    "dataset"
   ]
  },
  {
   "cell_type": "code",
   "execution_count": null,
   "metadata": {},
   "outputs": [],
   "source": []
  }
 ],
 "metadata": {
  "kernelspec": {
   "display_name": "Python 3",
   "language": "python",
   "name": "python3"
  },
  "language_info": {
   "codemirror_mode": {
    "name": "ipython",
    "version": 3
   },
   "file_extension": ".py",
   "mimetype": "text/x-python",
   "name": "python",
   "nbconvert_exporter": "python",
   "pygments_lexer": "ipython3",
   "version": "3.6.4"
  }
 },
 "nbformat": 4,
 "nbformat_minor": 2
}
