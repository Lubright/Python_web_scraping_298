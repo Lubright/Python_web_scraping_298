{
 "cells": [
  {
   "cell_type": "code",
   "execution_count": 7,
   "metadata": {},
   "outputs": [],
   "source": [
    "import requests\n",
    "from pyquery import PyQuery as pq\n",
    "from collections import namedtuple\n",
    "from urllib.parse import urlparse\n",
    "import sys"
   ]
  },
  {
   "cell_type": "code",
   "execution_count": 8,
   "metadata": {},
   "outputs": [],
   "source": [
    "url_base='https://www.imdb.com/'"
   ]
  },
  {
   "cell_type": "code",
   "execution_count": 45,
   "metadata": {},
   "outputs": [
    {
     "name": "stdout",
     "output_type": "stream",
     "text": [
      "ang lee\n"
     ]
    }
   ],
   "source": [
    "name_imdb=input()\n",
    "query_line=(lambda name: 'find?ref_=nv_sr_fn&q={}&s=all'.format(name.replace(' ','+')))(name_imdb)\n",
    "# query_line"
   ]
  },
  {
   "cell_type": "code",
   "execution_count": 48,
   "metadata": {},
   "outputs": [
    {
     "data": {
      "text/plain": [
       "'https://www.imdb.com/find?ref_=nv_sr_fn&q=ang+lee&s=all'"
      ]
     },
     "execution_count": 48,
     "metadata": {},
     "output_type": "execute_result"
    }
   ],
   "source": [
    "url=url_base+query_line\n",
    "url"
   ]
  },
  {
   "cell_type": "code",
   "execution_count": 64,
   "metadata": {},
   "outputs": [
    {
     "name": "stdout",
     "output_type": "stream",
     "text": [
      "18 credits\n",
      "Thrilla in Manila\n",
      "Gemini Man,2019\n",
      "Billy Lynn's Long Halftime Walk,2016\n",
      "Life of Pi,2012\n",
      "Taking Woodstock,2009\n",
      "Se, jie,2007\n",
      "Brokeback Mountain,2005\n",
      "Hulk,2003\n",
      "Sense and Sensibility: Deleted Scenes,2002\n",
      "Chosen,2001\n",
      "Wo hu cang long,2000\n",
      "Ride with the Devil,1999/I\n",
      "The Ice Storm,1997\n",
      "Sense and Sensibility,1995\n",
      "Yin shi nan nu,1994\n",
      "Si yan,1993\n",
      "Tui shou,1991\n",
      "I Wish I Was by That Dim Lake,1982\n"
     ]
    }
   ],
   "source": [
    "try:\n",
    "    response=requests.get(url)\n",
    "    doc=pq(response.text)\n",
    "    doc.make_links_absolute(base_url=response.url)\n",
    "    name_href=doc('.findSection > .findList tr:nth-child(1) > td.result_text > a')\n",
    "#     temp=doc('.findSection > .findList > tbody')\n",
    "#     print(name_href.text())\n",
    "#     print(name_href.attr('href'))\n",
    "    target_page=pq(name_href.attr('href'))\n",
    "    numOfMovies_text=target_page('#filmo-head-director')\n",
    "    numOfMovies_text=numOfMovies_text.text()\n",
    "    numOfMovies_text=numOfMovies_text[numOfMovies_text.find('(')+1:numOfMovies_text.find(')')]\n",
    "    print(numOfMovies_text)\n",
    "    movies=target_page('#filmo-head-director + .filmo-category-section > .filmo-row')\n",
    "#     print(movies.text())\n",
    "    for movie in movies.items():\n",
    "        movie_name=movie('b > a').text()\n",
    "        movie_year=movie('span.year_column').text()\n",
    "        if movie_year=='':\n",
    "            sep=''\n",
    "        else:\n",
    "            sep=','\n",
    "        print(movie_name,movie_year,sep=sep)\n",
    "        \n",
    "    \n",
    "except requests.HTTPError as e:\n",
    "    print(e)\n",
    "    sys.exit(1)"
   ]
  },
  {
   "cell_type": "code",
   "execution_count": null,
   "metadata": {},
   "outputs": [],
   "source": []
  }
 ],
 "metadata": {
  "kernelspec": {
   "display_name": "Python 3",
   "language": "python",
   "name": "python3"
  },
  "language_info": {
   "codemirror_mode": {
    "name": "ipython",
    "version": 3
   },
   "file_extension": ".py",
   "mimetype": "text/x-python",
   "name": "python",
   "nbconvert_exporter": "python",
   "pygments_lexer": "ipython3",
   "version": "3.6.4"
  }
 },
 "nbformat": 4,
 "nbformat_minor": 2
}
