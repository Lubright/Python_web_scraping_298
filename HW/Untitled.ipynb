{
 "cells": [
  {
   "cell_type": "code",
   "execution_count": 1,
   "metadata": {},
   "outputs": [
    {
     "name": "stdout",
     "output_type": "stream",
     "text": [
      "\n",
      "[]\n",
      "[]\n"
     ]
    }
   ],
   "source": [
    "from collections import defaultdict\n",
    "\n",
    "dict1 = defaultdict(dict)\n",
    "sub_dict1 = defaultdict(int)\n",
    "animal_seq = []\n",
    "site_seq = []\n",
    "\n",
    "while True:\n",
    "    try:\n",
    "        line = input()\n",
    "        temp_list = [e for e in line.split(' ') if e != '']\n",
    "        if temp_list[0] not in animal_seq:\n",
    "            animal_seq.append(temp_list[0])\n",
    "        if temp_list[2] not in site_seq:\n",
    "            site_seq.append(temp_list[2])\n",
    "        sub_dict1[temp_list[0]] = int(temp_list[1])\n",
    "        if temp_list[0] not in dict1[temp_list[2]]:\n",
    "            dict1[temp_list[2]] = sub_dict1.copy()\n",
    "        else:\n",
    "            dict1[temp_list[2]][temp_list[0]] += sub_dict1[temp_list[0]]\n",
    "        sub_dict1.clear()\n",
    "\n",
    "    except Exception as e:\n",
    "        break\n",
    "\n",
    "# print(dict1)\n",
    "print(animal_seq)\n",
    "print(site_seq)"
   ]
  },
  {
   "cell_type": "code",
   "execution_count": 2,
   "metadata": {},
   "outputs": [],
   "source": [
    "cnt1 = 0\n",
    "for site in site_seq:\n",
    "    cnt1 = 0\n",
    "    for animal in animal_seq:\n",
    "        if animal in dict1[site]:\n",
    "            cnt1 += 1\n",
    "            if cnt1 == len(dict1[site]):\n",
    "                print('{}:{} {}'.format(site, animal, dict1[site][animal]))\n",
    "            else:\n",
    "                print('{}:{} {},'.format(site, animal, dict1[site][animal]))"
   ]
  }
 ],
 "metadata": {
  "kernelspec": {
   "display_name": "Python 3",
   "language": "python",
   "name": "python3"
  },
  "language_info": {
   "codemirror_mode": {
    "name": "ipython",
    "version": 3
   },
   "file_extension": ".py",
   "mimetype": "text/x-python",
   "name": "python",
   "nbconvert_exporter": "python",
   "pygments_lexer": "ipython3",
   "version": "3.6.4"
  }
 },
 "nbformat": 4,
 "nbformat_minor": 2
}
