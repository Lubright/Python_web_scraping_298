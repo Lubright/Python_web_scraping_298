{
 "cells": [
  {
   "cell_type": "code",
   "execution_count": 80,
   "metadata": {},
   "outputs": [],
   "source": [
    "from datetime import datetime\n",
    "from datetime import timezone\n",
    "from datetime import timedelta"
   ]
  },
  {
   "cell_type": "code",
   "execution_count": 104,
   "metadata": {},
   "outputs": [],
   "source": [
    "def gen_datetime_obj(line):\n",
    "    line_list=[ e for e in line.split(' ') if e!='' ]\n",
    "    dt_str=' '.join(line_list[0:-1])\n",
    "#     print(dt_str)\n",
    "    offset=int(line_list[-1][2])\n",
    "    if line_list[-1][0]=='-':\n",
    "        offset=offset\n",
    "    else:\n",
    "        offset=-offset\n",
    "#     print(offset)\n",
    "    offset_timedelta=timedelta(hours = offset)\n",
    "    dt=datetime.strptime(dt_str,'%a %d %b %Y %X')\n",
    "    dt=dt.astimezone(timezone(offset = offset_timedelta))\n",
    "    dt=datetime.combine(dt.date(),dt.time())\n",
    "    \n",
    "    return dt"
   ]
  },
  {
   "cell_type": "code",
   "execution_count": 105,
   "metadata": {},
   "outputs": [],
   "source": [
    "def show_diff_datetime(line):\n",
    "#     print(line,type(line))\n",
    "    if ',' in line:\n",
    "        line=line.split(',')[0]\n",
    "        days=int(line.split(' ')[0])\n",
    "#         print(line,'ago')\n",
    "#         print(days)\n",
    "        \n",
    "        if 1<=days<=6:\n",
    "            print(line,'ago')\n",
    "        else:\n",
    "            week=days//7\n",
    "            if week==1:\n",
    "                    print(week,'week',end=' ago')\n",
    "            elif week>1:\n",
    "                print(week,'weeks',end=' ago')\n",
    "        \n",
    "    else:\n",
    "        line=line.split(':')\n",
    "#         print(line)\n",
    "        for i,e in enumerate(line):\n",
    "            temp=int(e)\n",
    "            if i==0:\n",
    "                if temp==1:\n",
    "                    print(temp,'hour',end='')\n",
    "                elif temp>1:\n",
    "                    print(temp,'hours',end='')\n",
    "                else:\n",
    "                    continue\n",
    "                break\n",
    "            elif i==1:\n",
    "                if temp==1:\n",
    "                    print(temp,'minute',end='')\n",
    "                elif temp>1:\n",
    "                    print(temp,'minutes',end='')\n",
    "                else:\n",
    "                    continue\n",
    "                break\n",
    "            elif i==2:\n",
    "                if temp==1:\n",
    "                    print(temp,'second',end='')\n",
    "                elif temp>1:\n",
    "                    print(temp,'seconds',end='')\n",
    "                break\n",
    "        print(' ago')\n",
    "        "
   ]
  },
  {
   "cell_type": "code",
   "execution_count": 108,
   "metadata": {},
   "outputs": [
    {
     "name": "stdout",
     "output_type": "stream",
     "text": [
      "1\n",
      "Sun 10 May 2015 13:54:36 -0000\n",
      "Sun 10 May 2015 14:55:36 -0000\n",
      "['1', '01', '00']\n",
      "1 hour ago\n"
     ]
    }
   ],
   "source": [
    "n=int(input())\n",
    "for i in range(n):\n",
    "    line=input()\n",
    "    dt=gen_datetime_obj(line)\n",
    "#     print(dt)\n",
    "    line2=input()\n",
    "    dt2=gen_datetime_obj(line2)\n",
    "#     print(dt2)\n",
    "    show_diff_datetime((dt2-dt).__str__())\n",
    "#     print(dt2-dt)"
   ]
  },
  {
   "cell_type": "code",
   "execution_count": null,
   "metadata": {},
   "outputs": [],
   "source": []
  }
 ],
 "metadata": {
  "kernelspec": {
   "display_name": "Python 3",
   "language": "python",
   "name": "python3"
  },
  "language_info": {
   "codemirror_mode": {
    "name": "ipython",
    "version": 3
   },
   "file_extension": ".py",
   "mimetype": "text/x-python",
   "name": "python",
   "nbconvert_exporter": "python",
   "pygments_lexer": "ipython3",
   "version": "3.6.4"
  }
 },
 "nbformat": 4,
 "nbformat_minor": 2
}
